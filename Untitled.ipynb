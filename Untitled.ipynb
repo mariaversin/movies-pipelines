{
 "cells": [
  {
   "cell_type": "code",
   "execution_count": 4,
   "metadata": {},
   "outputs": [],
   "source": [
    "import pandas as pd"
   ]
  },
  {
   "cell_type": "code",
   "execution_count": 5,
   "metadata": {},
   "outputs": [],
   "source": [
    "import matplotlib.pyplot as plt"
   ]
  },
  {
   "cell_type": "code",
   "execution_count": 6,
   "metadata": {},
   "outputs": [],
   "source": [
    "df = pd.read_csv('input/movies/movies.csv')"
   ]
  },
  {
   "cell_type": "code",
   "execution_count": 16,
   "metadata": {},
   "outputs": [
    {
     "name": "stdout",
     "output_type": "stream",
     "text": [
      "   Release Year                             Title Origin/Ethnicity  \\\n",
      "0          1901            Kansas Saloon Smashers         American   \n",
      "1          1901     Love by the Light of the Moon         American   \n",
      "2          1901           The Martyred Presidents         American   \n",
      "3          1901  Terrible Teddy, the Grizzly King         American   \n",
      "4          1902            Jack and the Beanstalk         American   \n",
      "\n",
      "                             Director Cast    Genre  \\\n",
      "0                             Unknown  NaN  unknown   \n",
      "1                             Unknown  NaN  unknown   \n",
      "2                             Unknown  NaN  unknown   \n",
      "3                             Unknown  NaN  unknown   \n",
      "4  George S. Fleming, Edwin S. Porter  NaN  unknown   \n",
      "\n",
      "                                           Wiki Page  \\\n",
      "0  https://en.wikipedia.org/wiki/Kansas_Saloon_Sm...   \n",
      "1  https://en.wikipedia.org/wiki/Love_by_the_Ligh...   \n",
      "2  https://en.wikipedia.org/wiki/The_Martyred_Pre...   \n",
      "3  https://en.wikipedia.org/wiki/Terrible_Teddy,_...   \n",
      "4  https://en.wikipedia.org/wiki/Jack_and_the_Bea...   \n",
      "\n",
      "                                                Plot  \n",
      "0  A bartender is working at a saloon, serving dr...  \n",
      "1  The moon, painted with a smiling face hangs ov...  \n",
      "2  The film, just over a minute long, is composed...  \n",
      "3  Lasting just 61 seconds and consisting of two ...  \n",
      "4  The earliest known adaptation of the classic f...   (34886, 8)\n"
     ]
    }
   ],
   "source": [
    "print(df.head(),df.shape)\n"
   ]
  },
  {
   "cell_type": "code",
   "execution_count": null,
   "metadata": {},
   "outputs": [],
   "source": [
    "#image(data, 1997, 'Drama')"
   ]
  },
  {
   "cell_type": "code",
   "execution_count": 8,
   "metadata": {},
   "outputs": [],
   "source": [
    "import numpy as np\n",
    "import matplotlib.pyplot as plt\n",
    "import seaborn as sns"
   ]
  },
  {
   "cell_type": "code",
   "execution_count": 25,
   "metadata": {},
   "outputs": [],
   "source": [
    "# years\n",
    "year = [1995,2000]\n",
    "genre = 'Drama'\n",
    "new = df[(df['Release Year'] >= year[0]) | (df['Release Year'] <= year[1]) & (df['Genre'] == genre)]\n"
   ]
  },
  {
   "cell_type": "code",
   "execution_count": 26,
   "metadata": {},
   "outputs": [
    {
     "data": {
      "text/html": [
       "<div>\n",
       "<style scoped>\n",
       "    .dataframe tbody tr th:only-of-type {\n",
       "        vertical-align: middle;\n",
       "    }\n",
       "\n",
       "    .dataframe tbody tr th {\n",
       "        vertical-align: top;\n",
       "    }\n",
       "\n",
       "    .dataframe thead th {\n",
       "        text-align: right;\n",
       "    }\n",
       "</style>\n",
       "<table border=\"1\" class=\"dataframe\">\n",
       "  <thead>\n",
       "    <tr style=\"text-align: right;\">\n",
       "      <th></th>\n",
       "      <th>Release Year</th>\n",
       "      <th>Title</th>\n",
       "      <th>Origin/Ethnicity</th>\n",
       "      <th>Director</th>\n",
       "      <th>Cast</th>\n",
       "      <th>Genre</th>\n",
       "      <th>Wiki Page</th>\n",
       "      <th>Plot</th>\n",
       "    </tr>\n",
       "  </thead>\n",
       "  <tbody>\n",
       "    <tr>\n",
       "      <th>12351</th>\n",
       "      <td>1995</td>\n",
       "      <td>3 Ninjas Knuckle Up</td>\n",
       "      <td>American</td>\n",
       "      <td>Sang-ok Shin</td>\n",
       "      <td>Victor Wong, Charles Napier, Michael Treanor, ...</td>\n",
       "      <td>comedy</td>\n",
       "      <td>https://en.wikipedia.org/wiki/3_Ninjas_Knuckle_Up</td>\n",
       "      <td>Rocky (Michael Treanor), Colt (Max Elliott Sla...</td>\n",
       "    </tr>\n",
       "    <tr>\n",
       "      <th>12352</th>\n",
       "      <td>1995</td>\n",
       "      <td>Above Suspicion</td>\n",
       "      <td>American</td>\n",
       "      <td>Steven Schachter</td>\n",
       "      <td>Christopher Reeve, Kim Cattrall, Joe Mantegna</td>\n",
       "      <td>thriller</td>\n",
       "      <td>https://en.wikipedia.org/wiki/Above_Suspicion_...</td>\n",
       "      <td>Christopher Reeve stars as a paralyzed police ...</td>\n",
       "    </tr>\n",
       "    <tr>\n",
       "      <th>12353</th>\n",
       "      <td>1995</td>\n",
       "      <td>Ace Ventura: When Nature Calls</td>\n",
       "      <td>American</td>\n",
       "      <td>Steve Oedekerk</td>\n",
       "      <td>Jim Carrey, Ian McNeice, Sophie Okonedo, Bob G...</td>\n",
       "      <td>comedy</td>\n",
       "      <td>https://en.wikipedia.org/wiki/Ace_Ventura:_Whe...</td>\n",
       "      <td>In the Himalayas, after a failed rescue missio...</td>\n",
       "    </tr>\n",
       "    <tr>\n",
       "      <th>12354</th>\n",
       "      <td>1995</td>\n",
       "      <td>The Addiction</td>\n",
       "      <td>American</td>\n",
       "      <td>Abel Ferrara</td>\n",
       "      <td>Lili Taylor, Christopher Walken, Annabella Sci...</td>\n",
       "      <td>horror</td>\n",
       "      <td>https://en.wikipedia.org/wiki/The_Addiction</td>\n",
       "      <td>Kathleen Conklin (Taylor), a young philosophy ...</td>\n",
       "    </tr>\n",
       "    <tr>\n",
       "      <th>12355</th>\n",
       "      <td>1995</td>\n",
       "      <td>Amanda and the Alien</td>\n",
       "      <td>American</td>\n",
       "      <td>Jon Kroll</td>\n",
       "      <td>John Diehl, Michael Dorn</td>\n",
       "      <td>sci-fi comedy</td>\n",
       "      <td>https://en.wikipedia.org/wiki/Amanda_and_the_A...</td>\n",
       "      <td>Amanda, an employee at an upscale clothing sto...</td>\n",
       "    </tr>\n",
       "  </tbody>\n",
       "</table>\n",
       "</div>"
      ],
      "text/plain": [
       "       Release Year                           Title Origin/Ethnicity  \\\n",
       "12351          1995             3 Ninjas Knuckle Up         American   \n",
       "12352          1995                 Above Suspicion         American   \n",
       "12353          1995  Ace Ventura: When Nature Calls         American   \n",
       "12354          1995                   The Addiction         American   \n",
       "12355          1995            Amanda and the Alien         American   \n",
       "\n",
       "               Director                                               Cast  \\\n",
       "12351      Sang-ok Shin  Victor Wong, Charles Napier, Michael Treanor, ...   \n",
       "12352  Steven Schachter      Christopher Reeve, Kim Cattrall, Joe Mantegna   \n",
       "12353    Steve Oedekerk  Jim Carrey, Ian McNeice, Sophie Okonedo, Bob G...   \n",
       "12354      Abel Ferrara  Lili Taylor, Christopher Walken, Annabella Sci...   \n",
       "12355         Jon Kroll                           John Diehl, Michael Dorn   \n",
       "\n",
       "               Genre                                          Wiki Page  \\\n",
       "12351         comedy  https://en.wikipedia.org/wiki/3_Ninjas_Knuckle_Up   \n",
       "12352       thriller  https://en.wikipedia.org/wiki/Above_Suspicion_...   \n",
       "12353         comedy  https://en.wikipedia.org/wiki/Ace_Ventura:_Whe...   \n",
       "12354         horror        https://en.wikipedia.org/wiki/The_Addiction   \n",
       "12355  sci-fi comedy  https://en.wikipedia.org/wiki/Amanda_and_the_A...   \n",
       "\n",
       "                                                    Plot  \n",
       "12351  Rocky (Michael Treanor), Colt (Max Elliott Sla...  \n",
       "12352  Christopher Reeve stars as a paralyzed police ...  \n",
       "12353  In the Himalayas, after a failed rescue missio...  \n",
       "12354  Kathleen Conklin (Taylor), a young philosophy ...  \n",
       "12355  Amanda, an employee at an upscale clothing sto...  "
      ]
     },
     "execution_count": 26,
     "metadata": {},
     "output_type": "execute_result"
    }
   ],
   "source": [
    "new.head()"
   ]
  },
  {
   "cell_type": "code",
   "execution_count": 21,
   "metadata": {},
   "outputs": [
    {
     "data": {
      "text/plain": [
       "<matplotlib.axes._subplots.AxesSubplot at 0x7fe8718d3c10>"
      ]
     },
     "execution_count": 21,
     "metadata": {},
     "output_type": "execute_result"
    },
    {
     "data": {
      "image/png": "[encoded data removed]",
      "text/plain": [
       "<Figure size 1080x720 with 1 Axes>"
      ]
     },
     "metadata": {},
     "output_type": "display_data"
    }
   ],
   "source": [
    "sns.set(style=\"white\")\n",
    "genre_to_count=pd.DataFrame({'genre':a.index, 'count':a.values})\n",
    "plt.figure(figsize=(15,10))\n",
    "sns.barplot(y=\"genre\", x=\"count\", data=genre_to_count,palette=(\"RdBu\"))"
   ]
  },
  {
   "cell_type": "code",
   "execution_count": 149,
   "metadata": {},
   "outputs": [],
   "source": [
    "#x = data.groupby(['release','genre']).size().to_frame('occurences').reset_index()"
   ]
  },
  {
   "cell_type": "code",
   "execution_count": 150,
   "metadata": {},
   "outputs": [],
   "source": [
    "#sns.barplot(x='genre', y='occurences', hue='release', data=x)"
   ]
  }
 ],
 "metadata": {
  "kernelspec": {
   "display_name": "Python 3",
   "language": "python",
   "name": "python3"
  },
  "language_info": {
   "codemirror_mode": {
    "name": "ipython",
    "version": 3
   },
   "file_extension": ".py",
   "mimetype": "text/x-python",
   "name": "python",
   "nbconvert_exporter": "python",
   "pygments_lexer": "ipython3",
   "version": "3.7.5"
  }
 },
 "nbformat": 4,
 "nbformat_minor": 2
}
